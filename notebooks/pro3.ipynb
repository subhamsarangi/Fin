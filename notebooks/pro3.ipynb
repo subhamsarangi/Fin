{
 "cells": [
  {
   "cell_type": "markdown",
   "metadata": {},
   "source": [
    "# Candlestick chart"
   ]
  },
  {
   "cell_type": "markdown",
   "metadata": {},
   "source": [
    "#### Candlestick graph plots the time, open, close, high, low as a vertical line ranging from low to high. \n",
    "It uses a rectangular bar to represent the open-close span. If close >= open, use colorup to color the bar, otherwise use colordown."
   ]
  },
  {
   "cell_type": "code",
   "execution_count": 121,
   "metadata": {
    "collapsed": true
   },
   "outputs": [],
   "source": [
    "import datetime as dt\n",
    "import pandas as pd\n",
    "import pandas_datareader.data as web\n",
    "import matplotlib.pyplot as plt\n",
    "from matplotlib import style\n",
    "from mpl_finance import candlestick_ohlc\n",
    "import matplotlib.dates as mdates\n",
    "style.use('seaborn')\n",
    "% matplotlib inline"
   ]
  },
  {
   "cell_type": "code",
   "execution_count": 122,
   "metadata": {},
   "outputs": [],
   "source": [
    "df=pd.read_csv('tsla.csv', parse_dates=True, index_col=0)"
   ]
  },
  {
   "cell_type": "markdown",
   "metadata": {},
   "source": [
    "###  RESAMPLE is a method for frequency conversion and resampling of time series.\n",
    "Object must have a datetime-like index (```DatetimeIndex```, ```PeriodIndex```, or ```TimedeltaIndex```).\n",
    "\n",
    "Here, we are going to, _Downsample the daily volume into 10 Day bins and sum the volumes falling into a bin._\n",
    "The size of the dataset significantly shrinks.\n",
    "#### OHLC is used for companies that have stock splits. Tesla never had a stock splits."
   ]
  },
  {
   "cell_type": "code",
   "execution_count": 140,
   "metadata": {},
   "outputs": [
    {
     "data": {
      "text/html": [
       "<div>\n",
       "<style>\n",
       "    .dataframe thead tr:only-child th {\n",
       "        text-align: right;\n",
       "    }\n",
       "\n",
       "    .dataframe thead th {\n",
       "        text-align: left;\n",
       "    }\n",
       "\n",
       "    .dataframe tbody tr th {\n",
       "        vertical-align: top;\n",
       "    }\n",
       "</style>\n",
       "<table border=\"1\" class=\"dataframe\">\n",
       "  <thead>\n",
       "    <tr style=\"text-align: right;\">\n",
       "      <th></th>\n",
       "      <th>open</th>\n",
       "      <th>high</th>\n",
       "      <th>low</th>\n",
       "      <th>close</th>\n",
       "    </tr>\n",
       "    <tr>\n",
       "      <th>Date</th>\n",
       "      <th></th>\n",
       "      <th></th>\n",
       "      <th></th>\n",
       "      <th></th>\n",
       "    </tr>\n",
       "  </thead>\n",
       "  <tbody>\n",
       "    <tr>\n",
       "      <th>2017-07-22</th>\n",
       "      <td>342.519989</td>\n",
       "      <td>343.850006</td>\n",
       "      <td>323.470001</td>\n",
       "      <td>323.470001</td>\n",
       "    </tr>\n",
       "    <tr>\n",
       "      <th>2017-08-01</th>\n",
       "      <td>319.570007</td>\n",
       "      <td>365.220001</td>\n",
       "      <td>319.570007</td>\n",
       "      <td>355.399994</td>\n",
       "    </tr>\n",
       "    <tr>\n",
       "      <th>2017-08-11</th>\n",
       "      <td>357.869995</td>\n",
       "      <td>363.799988</td>\n",
       "      <td>347.459991</td>\n",
       "      <td>347.459991</td>\n",
       "    </tr>\n",
       "    <tr>\n",
       "      <th>2017-08-21</th>\n",
       "      <td>337.859985</td>\n",
       "      <td>353.179993</td>\n",
       "      <td>337.859985</td>\n",
       "      <td>353.179993</td>\n",
       "    </tr>\n",
       "    <tr>\n",
       "      <th>2017-08-31</th>\n",
       "      <td>355.899994</td>\n",
       "      <td>355.899994</td>\n",
       "      <td>355.899994</td>\n",
       "      <td>355.899994</td>\n",
       "    </tr>\n",
       "  </tbody>\n",
       "</table>\n",
       "</div>"
      ],
      "text/plain": [
       "                  open        high         low       close\n",
       "Date                                                      \n",
       "2017-07-22  342.519989  343.850006  323.470001  323.470001\n",
       "2017-08-01  319.570007  365.220001  319.570007  355.399994\n",
       "2017-08-11  357.869995  363.799988  347.459991  347.459991\n",
       "2017-08-21  337.859985  353.179993  337.859985  353.179993\n",
       "2017-08-31  355.899994  355.899994  355.899994  355.899994"
      ]
     },
     "execution_count": 140,
     "metadata": {},
     "output_type": "execute_result"
    }
   ],
   "source": [
    "df_ohlc=df['Adj Close'].resample('10D').ohlc()\n",
    "df_ohlc.tail() # ohlc based on every 10 days of data"
   ]
  },
  {
   "cell_type": "code",
   "execution_count": 141,
   "metadata": {
    "scrolled": true
   },
   "outputs": [
    {
     "data": {
      "text/plain": [
       "Date\n",
       "2017-07-22    42165000\n",
       "2017-08-01    71957800\n",
       "2017-08-11    25803300\n",
       "2017-08-21    35091200\n",
       "2017-08-31     4072800\n",
       "Freq: 10D, Name: Volume, dtype: int64"
      ]
     },
     "execution_count": 141,
     "metadata": {},
     "output_type": "execute_result"
    }
   ],
   "source": [
    "df_volume=df['Volume'].resample('10D').sum()\n",
    "df_volume.tail()"
   ]
  },
  {
   "cell_type": "markdown",
   "metadata": {},
   "source": [
    "### Reset the index so that date is now a column"
   ]
  },
  {
   "cell_type": "code",
   "execution_count": 142,
   "metadata": {},
   "outputs": [
    {
     "data": {
      "text/html": [
       "<div>\n",
       "<style>\n",
       "    .dataframe thead tr:only-child th {\n",
       "        text-align: right;\n",
       "    }\n",
       "\n",
       "    .dataframe thead th {\n",
       "        text-align: left;\n",
       "    }\n",
       "\n",
       "    .dataframe tbody tr th {\n",
       "        vertical-align: top;\n",
       "    }\n",
       "</style>\n",
       "<table border=\"1\" class=\"dataframe\">\n",
       "  <thead>\n",
       "    <tr style=\"text-align: right;\">\n",
       "      <th></th>\n",
       "      <th>Date</th>\n",
       "      <th>open</th>\n",
       "      <th>high</th>\n",
       "      <th>low</th>\n",
       "      <th>close</th>\n",
       "    </tr>\n",
       "  </thead>\n",
       "  <tbody>\n",
       "    <tr>\n",
       "      <th>0</th>\n",
       "      <td>2010-06-29</td>\n",
       "      <td>23.889999</td>\n",
       "      <td>23.889999</td>\n",
       "      <td>15.800000</td>\n",
       "      <td>17.459999</td>\n",
       "    </tr>\n",
       "    <tr>\n",
       "      <th>1</th>\n",
       "      <td>2010-07-09</td>\n",
       "      <td>17.400000</td>\n",
       "      <td>20.639999</td>\n",
       "      <td>17.049999</td>\n",
       "      <td>20.639999</td>\n",
       "    </tr>\n",
       "    <tr>\n",
       "      <th>2</th>\n",
       "      <td>2010-07-19</td>\n",
       "      <td>21.910000</td>\n",
       "      <td>21.910000</td>\n",
       "      <td>20.219999</td>\n",
       "      <td>20.719999</td>\n",
       "    </tr>\n",
       "    <tr>\n",
       "      <th>3</th>\n",
       "      <td>2010-07-29</td>\n",
       "      <td>20.350000</td>\n",
       "      <td>21.950001</td>\n",
       "      <td>19.590000</td>\n",
       "      <td>19.590000</td>\n",
       "    </tr>\n",
       "    <tr>\n",
       "      <th>4</th>\n",
       "      <td>2010-08-08</td>\n",
       "      <td>19.600000</td>\n",
       "      <td>19.600000</td>\n",
       "      <td>17.600000</td>\n",
       "      <td>19.150000</td>\n",
       "    </tr>\n",
       "  </tbody>\n",
       "</table>\n",
       "</div>"
      ],
      "text/plain": [
       "        Date       open       high        low      close\n",
       "0 2010-06-29  23.889999  23.889999  15.800000  17.459999\n",
       "1 2010-07-09  17.400000  20.639999  17.049999  20.639999\n",
       "2 2010-07-19  21.910000  21.910000  20.219999  20.719999\n",
       "3 2010-07-29  20.350000  21.950001  19.590000  19.590000\n",
       "4 2010-08-08  19.600000  19.600000  17.600000  19.150000"
      ]
     },
     "execution_count": 142,
     "metadata": {},
     "output_type": "execute_result"
    }
   ],
   "source": [
    "df_ohlc.reset_index(inplace=True)\n",
    "df_ohlc.head()"
   ]
  },
  {
   "cell_type": "markdown",
   "metadata": {},
   "source": [
    "### Convert it to _mdates_"
   ]
  },
  {
   "cell_type": "code",
   "execution_count": 143,
   "metadata": {},
   "outputs": [
    {
     "data": {
      "text/html": [
       "<div>\n",
       "<style>\n",
       "    .dataframe thead tr:only-child th {\n",
       "        text-align: right;\n",
       "    }\n",
       "\n",
       "    .dataframe thead th {\n",
       "        text-align: left;\n",
       "    }\n",
       "\n",
       "    .dataframe tbody tr th {\n",
       "        vertical-align: top;\n",
       "    }\n",
       "</style>\n",
       "<table border=\"1\" class=\"dataframe\">\n",
       "  <thead>\n",
       "    <tr style=\"text-align: right;\">\n",
       "      <th></th>\n",
       "      <th>Date</th>\n",
       "      <th>open</th>\n",
       "      <th>high</th>\n",
       "      <th>low</th>\n",
       "      <th>close</th>\n",
       "    </tr>\n",
       "  </thead>\n",
       "  <tbody>\n",
       "    <tr>\n",
       "      <th>258</th>\n",
       "      <td>736532.0</td>\n",
       "      <td>342.519989</td>\n",
       "      <td>343.850006</td>\n",
       "      <td>323.470001</td>\n",
       "      <td>323.470001</td>\n",
       "    </tr>\n",
       "    <tr>\n",
       "      <th>259</th>\n",
       "      <td>736542.0</td>\n",
       "      <td>319.570007</td>\n",
       "      <td>365.220001</td>\n",
       "      <td>319.570007</td>\n",
       "      <td>355.399994</td>\n",
       "    </tr>\n",
       "    <tr>\n",
       "      <th>260</th>\n",
       "      <td>736552.0</td>\n",
       "      <td>357.869995</td>\n",
       "      <td>363.799988</td>\n",
       "      <td>347.459991</td>\n",
       "      <td>347.459991</td>\n",
       "    </tr>\n",
       "    <tr>\n",
       "      <th>261</th>\n",
       "      <td>736562.0</td>\n",
       "      <td>337.859985</td>\n",
       "      <td>353.179993</td>\n",
       "      <td>337.859985</td>\n",
       "      <td>353.179993</td>\n",
       "    </tr>\n",
       "    <tr>\n",
       "      <th>262</th>\n",
       "      <td>736572.0</td>\n",
       "      <td>355.899994</td>\n",
       "      <td>355.899994</td>\n",
       "      <td>355.899994</td>\n",
       "      <td>355.899994</td>\n",
       "    </tr>\n",
       "  </tbody>\n",
       "</table>\n",
       "</div>"
      ],
      "text/plain": [
       "         Date        open        high         low       close\n",
       "258  736532.0  342.519989  343.850006  323.470001  323.470001\n",
       "259  736542.0  319.570007  365.220001  319.570007  355.399994\n",
       "260  736552.0  357.869995  363.799988  347.459991  347.459991\n",
       "261  736562.0  337.859985  353.179993  337.859985  353.179993\n",
       "262  736572.0  355.899994  355.899994  355.899994  355.899994"
      ]
     },
     "execution_count": 143,
     "metadata": {},
     "output_type": "execute_result"
    }
   ],
   "source": [
    "df_ohlc['Date']=df_ohlc['Date'].map(mdates.date2num)\n",
    "df_ohlc.tail()"
   ]
  },
  {
   "cell_type": "markdown",
   "metadata": {},
   "source": [
    "### Plotting\n",
    "`xaxis_date()` takes mdates and display them as beautiful dates\n",
    "`candlestick_ohlc(axis, data, widthofsticks, colorup/down)`\n",
    "\n",
    "__A plot__\n",
    "```python\n",
    " ax.plot(x, y, lw=2)```\n",
    "__A fill_between__\n",
    "```python\n",
    " ax.fill_between(x, pricemin, y, facecolor='blue', alpha=0.5)\n",
    "```\n",
    "**fil_between** function generates a shaded region between a min and max boundary that is useful for illustrating ranges. It has a very handy where argument to combine filling with logical ranges, e.g., to just fill in a curve over some threshold value."
   ]
  },
  {
   "cell_type": "code",
   "execution_count": 157,
   "metadata": {},
   "outputs": [
    {
     "data": {
      "image/png": "[encoded data removed]",
      "text/plain": [
       "<matplotlib.figure.Figure at 0xb3fee70>"
      ]
     },
     "metadata": {},
     "output_type": "display_data"
    }
   ],
   "source": [
    "ax1=plt.subplot2grid((7,1),(0,0),rowspan=5, colspan=1)\n",
    "ax2=plt.subplot2grid((7,1),(5,0),rowspan=1, colspan=1,sharex=ax1)\n",
    "ax3=plt.subplot2grid((7,1),(6,0),rowspan=1, colspan=1,sharex=ax1)\n",
    "ax1.xaxis_date()\n",
    "candlestick_ohlc(ax1, df_ohlc.values, width=2, colorup='g')\n",
    "ax2.plot(df_volume.index.map(mdates.date2num), df_volume.values)\n",
    "ax3.fill_between(df_volume.index.map(mdates.date2num), df_volume.values,0)\n",
    "plt.show()"
   ]
  },
  {
   "cell_type": "code",
   "execution_count": null,
   "metadata": {
    "collapsed": true
   },
   "outputs": [],
   "source": []
  },
  {
   "cell_type": "code",
   "execution_count": 39,
   "metadata": {
    "collapsed": true
   },
   "outputs": [],
   "source": []
  }
 ],
 "metadata": {
  "kernelspec": {
   "display_name": "Python 3",
   "language": "python",
   "name": "python3"
  },
  "language_info": {
   "codemirror_mode": {
    "name": "ipython",
    "version": 3
   },
   "file_extension": ".py",
   "mimetype": "text/x-python",
   "name": "python",
   "nbconvert_exporter": "python",
   "pygments_lexer": "ipython3",
   "version": "3.5.2"
  }
 },
 "nbformat": 4,
 "nbformat_minor": 2
}
